{
 "cells": [
  {
   "cell_type": "code",
   "execution_count": 86,
   "metadata": {},
   "outputs": [
    {
     "data": {
      "text/plain": [
       "'/my_app/assign'"
      ]
     },
     "execution_count": 86,
     "metadata": {},
     "output_type": "execute_result"
    }
   ],
   "source": [
    "from kazoo.client import KazooClient\n",
    "from kazoo.client import KazooState\n",
    "from kazoo.client import KeeperState\n",
    "import logging\n",
    "\n",
    "logging.basicConfig()\n",
    "zk = KazooClient(hosts='localhost:2181,localhost:2182,localhost:2183')\n",
    "zk.start()\n",
    "zk.delete(\"/my_app\", recursive=True)\n",
    "zk.ensure_path(\"/my_app\")\n",
    "zk.ensure_path(\"/my_app/worker\")\n",
    "zk.ensure_path(\"/my_app/tasks\")\n",
    "zk.ensure_path(\"/my_app/assign\")"
   ]
  },
  {
   "cell_type": "code",
   "execution_count": 5,
   "metadata": {},
   "outputs": [
    {
     "data": {
      "text/plain": [
       "['task', 'worker', 'assign']"
      ]
     },
     "execution_count": 5,
     "metadata": {},
     "output_type": "execute_result"
    }
   ],
   "source": [
    "zk.get_children(\"/my_app\")"
   ]
  },
  {
   "cell_type": "code",
   "execution_count": 42,
   "metadata": {},
   "outputs": [
    {
     "data": {
      "text/plain": [
       "['worker0000000001']"
      ]
     },
     "execution_count": 42,
     "metadata": {},
     "output_type": "execute_result"
    }
   ],
   "source": [
    "zk.get_children(\"/my_app/worker\")"
   ]
  },
  {
   "cell_type": "code",
   "execution_count": 57,
   "metadata": {},
   "outputs": [
    {
     "data": {
      "text/plain": [
       "['worker0000000009',\n",
       " 'worker0000000008',\n",
       " 'worker0000000019',\n",
       " 'worker0000000007',\n",
       " 'worker0000000018',\n",
       " 'worker0000000006',\n",
       " 'worker0000000017',\n",
       " 'worker0000000005',\n",
       " 'worker0000000016',\n",
       " 'worker0000000015',\n",
       " 'worker0000000003',\n",
       " 'worker0000000014',\n",
       " 'worker0000000002',\n",
       " 'worker0000000013',\n",
       " 'worker0000000001',\n",
       " 'worker0000000012',\n",
       " 'worker0000000000',\n",
       " 'worker0000000011',\n",
       " 'worker0000000010',\n",
       " 'worker0000000020']"
      ]
     },
     "execution_count": 57,
     "metadata": {},
     "output_type": "execute_result"
    }
   ],
   "source": [
    "zk.get_children(\"/my_app/assign\")"
   ]
  },
  {
   "cell_type": "code",
   "execution_count": 95,
   "metadata": {},
   "outputs": [
    {
     "data": {
      "text/plain": [
       "'/my_app/tasks/work0000000004'"
      ]
     },
     "execution_count": 95,
     "metadata": {},
     "output_type": "execute_result"
    }
   ],
   "source": [
    "zk.create(\"/my_app/tasks/job\", sequence=True)"
   ]
  },
  {
   "cell_type": "code",
   "execution_count": 94,
   "metadata": {},
   "outputs": [
    {
     "data": {
      "text/plain": [
       "True"
      ]
     },
     "execution_count": 94,
     "metadata": {},
     "output_type": "execute_result"
    }
   ],
   "source": [
    "zk.delete(\"/my_app/tasks/work0000000002\")"
   ]
  },
  {
   "cell_type": "code",
   "execution_count": 73,
   "metadata": {},
   "outputs": [
    {
     "ename": "NoNodeError",
     "evalue": "",
     "output_type": "error",
     "traceback": [
      "\u001b[0;31m---------------------------------------------------------------------------\u001b[0m",
      "\u001b[0;31mNoNodeError\u001b[0m                               Traceback (most recent call last)",
      "Cell \u001b[0;32mIn[73], line 1\u001b[0m\n\u001b[0;32m----> 1\u001b[0m zk\u001b[39m.\u001b[39;49mcreate(\u001b[39m\"\u001b[39;49m\u001b[39m/my_app/assign/worker0000000020/work\u001b[39;49m\u001b[39m\"\u001b[39;49m)\n",
      "File \u001b[0;32m/Library/Frameworks/Python.framework/Versions/3.11/lib/python3.11/site-packages/kazoo/client.py:958\u001b[0m, in \u001b[0;36mKazooClient.create\u001b[0;34m(self, path, value, acl, ephemeral, sequence, makepath, include_data)\u001b[0m\n\u001b[1;32m    877\u001b[0m \u001b[39m\u001b[39m\u001b[39m\"\"\"Create a node with the given value as its data. Optionally\u001b[39;00m\n\u001b[1;32m    878\u001b[0m \u001b[39mset an ACL on the node.\u001b[39;00m\n\u001b[1;32m    879\u001b[0m \n\u001b[0;32m   (...)\u001b[0m\n\u001b[1;32m    952\u001b[0m \u001b[39m    The `include_data` option.\u001b[39;00m\n\u001b[1;32m    953\u001b[0m \u001b[39m\"\"\"\u001b[39;00m\n\u001b[1;32m    954\u001b[0m acl \u001b[39m=\u001b[39m acl \u001b[39mor\u001b[39;00m \u001b[39mself\u001b[39m\u001b[39m.\u001b[39mdefault_acl\n\u001b[1;32m    955\u001b[0m \u001b[39mreturn\u001b[39;00m \u001b[39mself\u001b[39;49m\u001b[39m.\u001b[39;49mcreate_async(\n\u001b[1;32m    956\u001b[0m     path, value, acl\u001b[39m=\u001b[39;49macl, ephemeral\u001b[39m=\u001b[39;49mephemeral,\n\u001b[1;32m    957\u001b[0m     sequence\u001b[39m=\u001b[39;49msequence, makepath\u001b[39m=\u001b[39;49mmakepath, include_data\u001b[39m=\u001b[39;49minclude_data\n\u001b[0;32m--> 958\u001b[0m )\u001b[39m.\u001b[39;49mget()\n",
      "File \u001b[0;32m/Library/Frameworks/Python.framework/Versions/3.11/lib/python3.11/site-packages/kazoo/handlers/utils.py:86\u001b[0m, in \u001b[0;36mAsyncResult.get\u001b[0;34m(self, block, timeout)\u001b[0m\n\u001b[1;32m     84\u001b[0m         \u001b[39mif\u001b[39;00m \u001b[39mself\u001b[39m\u001b[39m.\u001b[39m_exception \u001b[39mis\u001b[39;00m \u001b[39mNone\u001b[39;00m:\n\u001b[1;32m     85\u001b[0m             \u001b[39mreturn\u001b[39;00m \u001b[39mself\u001b[39m\u001b[39m.\u001b[39mvalue\n\u001b[0;32m---> 86\u001b[0m         \u001b[39mraise\u001b[39;00m \u001b[39mself\u001b[39m\u001b[39m.\u001b[39m_exception\n\u001b[1;32m     88\u001b[0m \u001b[39m# if we get to this point we timeout\u001b[39;00m\n\u001b[1;32m     89\u001b[0m \u001b[39mraise\u001b[39;00m \u001b[39mself\u001b[39m\u001b[39m.\u001b[39m_timeout_factory()\n",
      "File \u001b[0;32m/Library/Frameworks/Python.framework/Versions/3.11/lib/python3.11/site-packages/kazoo/handlers/utils.py:292\u001b[0m, in \u001b[0;36mcapture_exceptions.<locals>.capture.<locals>.captured_function\u001b[0;34m(*args, **kwargs)\u001b[0m\n\u001b[1;32m    289\u001b[0m \u001b[39m@functools\u001b[39m\u001b[39m.\u001b[39mwraps(function)\n\u001b[1;32m    290\u001b[0m \u001b[39mdef\u001b[39;00m \u001b[39mcaptured_function\u001b[39m(\u001b[39m*\u001b[39margs, \u001b[39m*\u001b[39m\u001b[39m*\u001b[39mkwargs):\n\u001b[1;32m    291\u001b[0m     \u001b[39mtry\u001b[39;00m:\n\u001b[0;32m--> 292\u001b[0m         \u001b[39mreturn\u001b[39;00m function(\u001b[39m*\u001b[39;49margs, \u001b[39m*\u001b[39;49m\u001b[39m*\u001b[39;49mkwargs)\n\u001b[1;32m    293\u001b[0m     \u001b[39mexcept\u001b[39;00m \u001b[39mException\u001b[39;00m \u001b[39mas\u001b[39;00m exc:\n\u001b[1;32m    294\u001b[0m         async_result\u001b[39m.\u001b[39mset_exception(exc)\n",
      "File \u001b[0;32m/Library/Frameworks/Python.framework/Versions/3.11/lib/python3.11/site-packages/kazoo/handlers/utils.py:313\u001b[0m, in \u001b[0;36mwrap.<locals>.capture.<locals>.captured_function\u001b[0;34m(*args, **kwargs)\u001b[0m\n\u001b[1;32m    311\u001b[0m \u001b[39m@capture_exceptions\u001b[39m(async_result)\n\u001b[1;32m    312\u001b[0m \u001b[39mdef\u001b[39;00m \u001b[39mcaptured_function\u001b[39m(\u001b[39m*\u001b[39margs, \u001b[39m*\u001b[39m\u001b[39m*\u001b[39mkwargs):\n\u001b[0;32m--> 313\u001b[0m     value \u001b[39m=\u001b[39m function(\u001b[39m*\u001b[39;49margs, \u001b[39m*\u001b[39;49m\u001b[39m*\u001b[39;49mkwargs)\n\u001b[1;32m    314\u001b[0m     \u001b[39mif\u001b[39;00m value \u001b[39mis\u001b[39;00m \u001b[39mnot\u001b[39;00m \u001b[39mNone\u001b[39;00m:\n\u001b[1;32m    315\u001b[0m         async_result\u001b[39m.\u001b[39mset(value)\n",
      "File \u001b[0;32m/Library/Frameworks/Python.framework/Versions/3.11/lib/python3.11/site-packages/kazoo/client.py:1022\u001b[0m, in \u001b[0;36mKazooClient.create_async.<locals>.create_completion\u001b[0;34m(result)\u001b[0m\n\u001b[1;32m   1020\u001b[0m         \u001b[39mreturn\u001b[39;00m \u001b[39mself\u001b[39m\u001b[39m.\u001b[39munchroot(new_path), stat\n\u001b[1;32m   1021\u001b[0m     \u001b[39melse\u001b[39;00m:\n\u001b[0;32m-> 1022\u001b[0m         \u001b[39mreturn\u001b[39;00m \u001b[39mself\u001b[39m\u001b[39m.\u001b[39munchroot(result\u001b[39m.\u001b[39;49mget())\n\u001b[1;32m   1023\u001b[0m \u001b[39mexcept\u001b[39;00m NoNodeError:\n\u001b[1;32m   1024\u001b[0m     \u001b[39mif\u001b[39;00m \u001b[39mnot\u001b[39;00m makepath:\n",
      "File \u001b[0;32m/Library/Frameworks/Python.framework/Versions/3.11/lib/python3.11/site-packages/kazoo/handlers/utils.py:80\u001b[0m, in \u001b[0;36mAsyncResult.get\u001b[0;34m(self, block, timeout)\u001b[0m\n\u001b[1;32m     78\u001b[0m     \u001b[39mif\u001b[39;00m \u001b[39mself\u001b[39m\u001b[39m.\u001b[39m_exception \u001b[39mis\u001b[39;00m \u001b[39mNone\u001b[39;00m:\n\u001b[1;32m     79\u001b[0m         \u001b[39mreturn\u001b[39;00m \u001b[39mself\u001b[39m\u001b[39m.\u001b[39mvalue\n\u001b[0;32m---> 80\u001b[0m     \u001b[39mraise\u001b[39;00m \u001b[39mself\u001b[39m\u001b[39m.\u001b[39m_exception\n\u001b[1;32m     81\u001b[0m \u001b[39melif\u001b[39;00m block:\n\u001b[1;32m     82\u001b[0m     \u001b[39mself\u001b[39m\u001b[39m.\u001b[39m_condition\u001b[39m.\u001b[39mwait(timeout)\n",
      "\u001b[0;31mNoNodeError\u001b[0m: "
     ]
    }
   ],
   "source": [
    "zk.create(\"/my_app/assign/worker0000000020/work\")"
   ]
  }
 ],
 "metadata": {
  "kernelspec": {
   "display_name": "Python 3",
   "language": "python",
   "name": "python3"
  },
  "language_info": {
   "codemirror_mode": {
    "name": "ipython",
    "version": 3
   },
   "file_extension": ".py",
   "mimetype": "text/x-python",
   "name": "python",
   "nbconvert_exporter": "python",
   "pygments_lexer": "ipython3",
   "version": "3.11.4"
  },
  "orig_nbformat": 4
 },
 "nbformat": 4,
 "nbformat_minor": 2
}
