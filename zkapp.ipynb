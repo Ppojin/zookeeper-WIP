{
 "cells": [
  {
   "cell_type": "code",
   "execution_count": null,
   "metadata": {},
   "outputs": [],
   "source": [
    "from kazoo.client import KazooClient\n",
    "from kazoo.client import KazooState\n",
    "from kazoo.client import KeeperState\n",
    "import logging\n",
    "\n",
    "logging.basicConfig()\n",
    "# zk = KazooClient(hosts='localhost:2181,localhost:2182,localhost:2183')\n",
    "zk = KazooClient(hosts='localhost:2181')\n",
    "zk.start()\n",
    "\n",
    "# zk.delete(\"/my_app\", recursive=True)\n",
    "# zk.ensure_path(\"/my_app\")\n",
    "# zk.ensure_path(\"/my_app/worker\")\n",
    "# zk.ensure_path(\"/my_app/tasks\")\n",
    "# zk.ensure_path(\"/my_app/assign\")\n",
    "\n",
    "# zk.stop()"
   ]
  },
  {
   "cell_type": "code",
   "execution_count": null,
   "metadata": {},
   "outputs": [],
   "source": [
    "zk.get_children(\"/\")"
   ]
  },
  {
   "cell_type": "code",
   "execution_count": null,
   "metadata": {},
   "outputs": [],
   "source": [
    "zk.get(\"/my_app/assign/\"+ \"worker0000000002\")"
   ]
  },
  {
   "cell_type": "code",
   "execution_count": null,
   "metadata": {},
   "outputs": [],
   "source": [
    "zk.create(\"/my_app/assign/worker0000000003/job\", b\"qwer\", sequence=True)"
   ]
  },
  {
   "cell_type": "code",
   "execution_count": null,
   "metadata": {},
   "outputs": [],
   "source": [
    "zk.delete(\"/my_app/assign/worker0000000003/job0000000000\")"
   ]
  },
  {
   "cell_type": "code",
   "execution_count": null,
   "metadata": {},
   "outputs": [],
   "source": [
    "id = 99"
   ]
  },
  {
   "cell_type": "code",
   "execution_count": null,
   "metadata": {},
   "outputs": [],
   "source": [
    "i = 0\n",
    "id += 1\n",
    "worker = \"worker0000000\"+str(id)\n",
    "print(worker)\n",
    "i += 1\n",
    "job = zk.create(\"/my_app/assign/\"+worker+\"/job\", bytes(\"hi\"+str(i), \"utf-8\"), sequence=True)\n",
    "i += 1\n",
    "job = zk.create(\"/my_app/assign/\"+worker+\"/job\", bytes(\"hi\"+str(i), \"utf-8\"), sequence=True)\n",
    "print (job)"
   ]
  },
  {
   "cell_type": "code",
   "execution_count": null,
   "metadata": {},
   "outputs": [],
   "source": [
    "print(\"/my_app/assign/\"+worker)\n",
    "zk.delete(\"/my_app/assign/\"+worker+\"/job0000000000\")"
   ]
  },
  {
   "cell_type": "code",
   "execution_count": null,
   "metadata": {},
   "outputs": [],
   "source": [
    "zk.get_children(\"/my_app/assign/\"+worker)"
   ]
  },
  {
   "cell_type": "code",
   "execution_count": null,
   "metadata": {},
   "outputs": [],
   "source": [
    "zk.delete(\"/my_app/assign/worker0000000008\", recursive=True)"
   ]
  }
 ],
 "metadata": {
  "kernelspec": {
   "display_name": "Python 3",
   "language": "python",
   "name": "python3"
  },
  "language_info": {
   "codemirror_mode": {
    "name": "ipython",
    "version": 3
   },
   "file_extension": ".py",
   "mimetype": "text/x-python",
   "name": "python",
   "nbconvert_exporter": "python",
   "pygments_lexer": "ipython3",
   "version": "3.11.4"
  },
  "orig_nbformat": 4
 },
 "nbformat": 4,
 "nbformat_minor": 2
}
